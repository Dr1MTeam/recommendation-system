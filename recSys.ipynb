{
 "cells": [
  {
   "cell_type": "code",
   "execution_count": 32,
   "metadata": {
    "ExecuteTime": {
     "end_time": "2023-12-06T15:44:27.732762300Z",
     "start_time": "2023-12-06T15:44:27.722251Z"
    }
   },
   "outputs": [],
   "source": [
    "import numpy as np\n",
    "import pandas as pd\n",
    "from scipy.sparse import csr_matrix\n",
    "from sklearn.neighbors import NearestNeighbors"
   ]
  },
  {
   "cell_type": "code",
   "execution_count": 33,
   "metadata": {
    "ExecuteTime": {
     "end_time": "2023-12-06T15:44:28.507358Z",
     "start_time": "2023-12-06T15:44:28.497849700Z"
    }
   },
   "outputs": [],
   "source": [
    "np.set_printoptions(precision=2)"
   ]
  },
  {
   "cell_type": "code",
   "execution_count": null,
   "outputs": [],
   "source": [],
   "metadata": {
    "collapsed": false
   }
  },
  {
   "cell_type": "code",
   "execution_count": 34,
   "metadata": {
    "ExecuteTime": {
     "end_time": "2023-12-06T15:44:34.243503400Z",
     "start_time": "2023-12-06T15:44:29.547745600Z"
    }
   },
   "outputs": [],
   "source": [
    "ratings = pd.read_csv(r'Dataset/ratings.csv', sep=\",\")\n",
    "movies = pd.read_csv(r'Dataset/movies_metadata.csv', sep=\",\", low_memory=False)[['id','title']]\n"
   ]
  },
  {
   "cell_type": "code",
   "execution_count": 35,
   "outputs": [
    {
     "name": "stdout",
     "output_type": "stream",
     "text": [
      "           id                      title\n",
      "45456   84419           House of Horrors\n",
      "45457  390959  Shadow of the Blair Witch\n",
      "45458  289923        The Burkittsville 7\n",
      "45459  222848            Caged Heat 3000\n",
      "45460   30840                 Robin Hood\n",
      "45461  439050                     Subdue\n",
      "45462  111109        Century of Birthing\n",
      "45463   67758                   Betrayal\n",
      "45464  227506           Satan Triumphant\n",
      "45465  461257                   Queerama\n"
     ]
    }
   ],
   "source": [
    "print(movies[-10:])"
   ],
   "metadata": {
    "collapsed": false,
    "ExecuteTime": {
     "end_time": "2023-12-06T15:44:37.327213500Z",
     "start_time": "2023-12-06T15:44:37.322702900Z"
    }
   }
  },
  {
   "cell_type": "code",
   "execution_count": 36,
   "metadata": {
    "ExecuteTime": {
     "end_time": "2023-12-06T15:44:39.414925200Z",
     "start_time": "2023-12-06T15:44:39.250573600Z"
    }
   },
   "outputs": [],
   "source": [
    "ratings.drop(['timestamp'],axis=1, inplace=True)\n"
   ]
  },
  {
   "cell_type": "code",
   "execution_count": 40,
   "outputs": [
    {
     "data": {
      "text/plain": "26024289"
     },
     "execution_count": 40,
     "metadata": {},
     "output_type": "execute_result"
    }
   ],
   "source": [
    "len(movies['id'])\n",
    "len(ratings)"
   ],
   "metadata": {
    "collapsed": false,
    "ExecuteTime": {
     "end_time": "2023-12-06T15:46:40.369367600Z",
     "start_time": "2023-12-06T15:46:40.350103300Z"
    }
   }
  },
  {
   "cell_type": "code",
   "execution_count": 38,
   "metadata": {
    "ExecuteTime": {
     "end_time": "2023-12-06T15:46:16.710686800Z",
     "start_time": "2023-12-06T15:46:16.682387700Z"
    }
   },
   "outputs": [],
   "source": [
    "movies['id'] = movies['id'].apply(lambda x: int(x) if x.isnumeric() else -1)\n"
   ]
  },
  {
   "cell_type": "code",
   "execution_count": null,
   "outputs": [],
   "source": [],
   "metadata": {
    "collapsed": false
   }
  },
  {
   "cell_type": "code",
   "execution_count": 30,
   "metadata": {
    "ExecuteTime": {
     "end_time": "2023-12-06T15:44:23.928586700Z",
     "start_time": "2023-12-06T15:44:23.896056Z"
    }
   },
   "outputs": [
    {
     "ename": "AttributeError",
     "evalue": "'int' object has no attribute 'isnumeric'",
     "output_type": "error",
     "traceback": [
      "\u001B[1;31m---------------------------------------------------------------------------\u001B[0m",
      "\u001B[1;31mAttributeError\u001B[0m                            Traceback (most recent call last)",
      "Cell \u001B[1;32mIn[30], line 3\u001B[0m\n\u001B[0;32m      1\u001B[0m \u001B[38;5;66;03m# movies['id'].drop(['1997-08-20'], axis=0)\u001B[39;00m\n\u001B[0;32m      2\u001B[0m \u001B[38;5;66;03m# movies = movies[movies['id'] != '1997-08-20']\u001B[39;00m\n\u001B[1;32m----> 3\u001B[0m movies[\u001B[38;5;124m'\u001B[39m\u001B[38;5;124mid\u001B[39m\u001B[38;5;124m'\u001B[39m] \u001B[38;5;241m=\u001B[39m \u001B[43mmovies\u001B[49m\u001B[43m[\u001B[49m\u001B[38;5;124;43m'\u001B[39;49m\u001B[38;5;124;43mid\u001B[39;49m\u001B[38;5;124;43m'\u001B[39;49m\u001B[43m]\u001B[49m\u001B[38;5;241;43m.\u001B[39;49m\u001B[43mapply\u001B[49m\u001B[43m(\u001B[49m\u001B[38;5;28;43;01mlambda\u001B[39;49;00m\u001B[43m \u001B[49m\u001B[43mx\u001B[49m\u001B[43m:\u001B[49m\u001B[43m \u001B[49m\u001B[38;5;28;43mint\u001B[39;49m\u001B[43m(\u001B[49m\u001B[43mx\u001B[49m\u001B[43m)\u001B[49m\u001B[43m \u001B[49m\u001B[38;5;28;43;01mif\u001B[39;49;00m\u001B[43m \u001B[49m\u001B[43mx\u001B[49m\u001B[38;5;241;43m.\u001B[39;49m\u001B[43misnumeric\u001B[49m\u001B[43m(\u001B[49m\u001B[43m)\u001B[49m\u001B[43m \u001B[49m\u001B[38;5;28;43;01melse\u001B[39;49;00m\u001B[43m \u001B[49m\u001B[38;5;241;43m-\u001B[39;49m\u001B[38;5;241;43m1\u001B[39;49m\u001B[43m)\u001B[49m\n\u001B[0;32m      5\u001B[0m movies \u001B[38;5;241m=\u001B[39m movies[movies[\u001B[38;5;124m'\u001B[39m\u001B[38;5;124mid\u001B[39m\u001B[38;5;124m'\u001B[39m] \u001B[38;5;241m!=\u001B[39m \u001B[38;5;241m-\u001B[39m\u001B[38;5;241m1\u001B[39m]\n",
      "File \u001B[1;32m~\\.virtualenvs\\ML_movie_rec_sys\\lib\\site-packages\\pandas\\core\\series.py:4630\u001B[0m, in \u001B[0;36mSeries.apply\u001B[1;34m(self, func, convert_dtype, args, **kwargs)\u001B[0m\n\u001B[0;32m   4520\u001B[0m \u001B[38;5;28;01mdef\u001B[39;00m \u001B[38;5;21mapply\u001B[39m(\n\u001B[0;32m   4521\u001B[0m     \u001B[38;5;28mself\u001B[39m,\n\u001B[0;32m   4522\u001B[0m     func: AggFuncType,\n\u001B[1;32m   (...)\u001B[0m\n\u001B[0;32m   4525\u001B[0m     \u001B[38;5;241m*\u001B[39m\u001B[38;5;241m*\u001B[39mkwargs,\n\u001B[0;32m   4526\u001B[0m ) \u001B[38;5;241m-\u001B[39m\u001B[38;5;241m>\u001B[39m DataFrame \u001B[38;5;241m|\u001B[39m Series:\n\u001B[0;32m   4527\u001B[0m \u001B[38;5;250m    \u001B[39m\u001B[38;5;124;03m\"\"\"\u001B[39;00m\n\u001B[0;32m   4528\u001B[0m \u001B[38;5;124;03m    Invoke function on values of Series.\u001B[39;00m\n\u001B[0;32m   4529\u001B[0m \n\u001B[1;32m   (...)\u001B[0m\n\u001B[0;32m   4628\u001B[0m \u001B[38;5;124;03m    dtype: float64\u001B[39;00m\n\u001B[0;32m   4629\u001B[0m \u001B[38;5;124;03m    \"\"\"\u001B[39;00m\n\u001B[1;32m-> 4630\u001B[0m     \u001B[38;5;28;01mreturn\u001B[39;00m \u001B[43mSeriesApply\u001B[49m\u001B[43m(\u001B[49m\u001B[38;5;28;43mself\u001B[39;49m\u001B[43m,\u001B[49m\u001B[43m \u001B[49m\u001B[43mfunc\u001B[49m\u001B[43m,\u001B[49m\u001B[43m \u001B[49m\u001B[43mconvert_dtype\u001B[49m\u001B[43m,\u001B[49m\u001B[43m \u001B[49m\u001B[43margs\u001B[49m\u001B[43m,\u001B[49m\u001B[43m \u001B[49m\u001B[43mkwargs\u001B[49m\u001B[43m)\u001B[49m\u001B[38;5;241;43m.\u001B[39;49m\u001B[43mapply\u001B[49m\u001B[43m(\u001B[49m\u001B[43m)\u001B[49m\n",
      "File \u001B[1;32m~\\.virtualenvs\\ML_movie_rec_sys\\lib\\site-packages\\pandas\\core\\apply.py:1025\u001B[0m, in \u001B[0;36mSeriesApply.apply\u001B[1;34m(self)\u001B[0m\n\u001B[0;32m   1022\u001B[0m     \u001B[38;5;28;01mreturn\u001B[39;00m \u001B[38;5;28mself\u001B[39m\u001B[38;5;241m.\u001B[39mapply_str()\n\u001B[0;32m   1024\u001B[0m \u001B[38;5;66;03m# self.f is Callable\u001B[39;00m\n\u001B[1;32m-> 1025\u001B[0m \u001B[38;5;28;01mreturn\u001B[39;00m \u001B[38;5;28;43mself\u001B[39;49m\u001B[38;5;241;43m.\u001B[39;49m\u001B[43mapply_standard\u001B[49m\u001B[43m(\u001B[49m\u001B[43m)\u001B[49m\n",
      "File \u001B[1;32m~\\.virtualenvs\\ML_movie_rec_sys\\lib\\site-packages\\pandas\\core\\apply.py:1076\u001B[0m, in \u001B[0;36mSeriesApply.apply_standard\u001B[1;34m(self)\u001B[0m\n\u001B[0;32m   1074\u001B[0m     \u001B[38;5;28;01melse\u001B[39;00m:\n\u001B[0;32m   1075\u001B[0m         values \u001B[38;5;241m=\u001B[39m obj\u001B[38;5;241m.\u001B[39mastype(\u001B[38;5;28mobject\u001B[39m)\u001B[38;5;241m.\u001B[39m_values\n\u001B[1;32m-> 1076\u001B[0m         mapped \u001B[38;5;241m=\u001B[39m \u001B[43mlib\u001B[49m\u001B[38;5;241;43m.\u001B[39;49m\u001B[43mmap_infer\u001B[49m\u001B[43m(\u001B[49m\n\u001B[0;32m   1077\u001B[0m \u001B[43m            \u001B[49m\u001B[43mvalues\u001B[49m\u001B[43m,\u001B[49m\n\u001B[0;32m   1078\u001B[0m \u001B[43m            \u001B[49m\u001B[43mf\u001B[49m\u001B[43m,\u001B[49m\n\u001B[0;32m   1079\u001B[0m \u001B[43m            \u001B[49m\u001B[43mconvert\u001B[49m\u001B[38;5;241;43m=\u001B[39;49m\u001B[38;5;28;43mself\u001B[39;49m\u001B[38;5;241;43m.\u001B[39;49m\u001B[43mconvert_dtype\u001B[49m\u001B[43m,\u001B[49m\n\u001B[0;32m   1080\u001B[0m \u001B[43m        \u001B[49m\u001B[43m)\u001B[49m\n\u001B[0;32m   1082\u001B[0m \u001B[38;5;28;01mif\u001B[39;00m \u001B[38;5;28mlen\u001B[39m(mapped) \u001B[38;5;129;01mand\u001B[39;00m \u001B[38;5;28misinstance\u001B[39m(mapped[\u001B[38;5;241m0\u001B[39m], ABCSeries):\n\u001B[0;32m   1083\u001B[0m     \u001B[38;5;66;03m# GH#43986 Need to do list(mapped) in order to get treated as nested\u001B[39;00m\n\u001B[0;32m   1084\u001B[0m     \u001B[38;5;66;03m#  See also GH#25959 regarding EA support\u001B[39;00m\n\u001B[0;32m   1085\u001B[0m     \u001B[38;5;28;01mreturn\u001B[39;00m obj\u001B[38;5;241m.\u001B[39m_constructor_expanddim(\u001B[38;5;28mlist\u001B[39m(mapped), index\u001B[38;5;241m=\u001B[39mobj\u001B[38;5;241m.\u001B[39mindex)\n",
      "File \u001B[1;32m~\\.virtualenvs\\ML_movie_rec_sys\\lib\\site-packages\\pandas\\_libs\\lib.pyx:2834\u001B[0m, in \u001B[0;36mpandas._libs.lib.map_infer\u001B[1;34m()\u001B[0m\n",
      "Cell \u001B[1;32mIn[30], line 3\u001B[0m, in \u001B[0;36m<lambda>\u001B[1;34m(x)\u001B[0m\n\u001B[0;32m      1\u001B[0m \u001B[38;5;66;03m# movies['id'].drop(['1997-08-20'], axis=0)\u001B[39;00m\n\u001B[0;32m      2\u001B[0m \u001B[38;5;66;03m# movies = movies[movies['id'] != '1997-08-20']\u001B[39;00m\n\u001B[1;32m----> 3\u001B[0m movies[\u001B[38;5;124m'\u001B[39m\u001B[38;5;124mid\u001B[39m\u001B[38;5;124m'\u001B[39m] \u001B[38;5;241m=\u001B[39m movies[\u001B[38;5;124m'\u001B[39m\u001B[38;5;124mid\u001B[39m\u001B[38;5;124m'\u001B[39m]\u001B[38;5;241m.\u001B[39mapply(\u001B[38;5;28;01mlambda\u001B[39;00m x: \u001B[38;5;28mint\u001B[39m(x) \u001B[38;5;28;01mif\u001B[39;00m \u001B[43mx\u001B[49m\u001B[38;5;241;43m.\u001B[39;49m\u001B[43misnumeric\u001B[49m() \u001B[38;5;28;01melse\u001B[39;00m \u001B[38;5;241m-\u001B[39m\u001B[38;5;241m1\u001B[39m)\n\u001B[0;32m      5\u001B[0m movies \u001B[38;5;241m=\u001B[39m movies[movies[\u001B[38;5;124m'\u001B[39m\u001B[38;5;124mid\u001B[39m\u001B[38;5;124m'\u001B[39m] \u001B[38;5;241m!=\u001B[39m \u001B[38;5;241m-\u001B[39m\u001B[38;5;241m1\u001B[39m]\n",
      "\u001B[1;31mAttributeError\u001B[0m: 'int' object has no attribute 'isnumeric'"
     ]
    }
   ],
   "source": [
    "# movies['id'].drop(['1997-08-20'], axis=0)\n",
    "# movies = movies[movies['id'] != '1997-08-20']\n",
    "\n",
    "movies = movies[movies['id'] != -1]\n"
   ]
  },
  {
   "cell_type": "code",
   "execution_count": 16,
   "metadata": {
    "ExecuteTime": {
     "end_time": "2023-12-06T15:41:35.902856600Z",
     "start_time": "2023-12-06T15:41:35.200034700Z"
    }
   },
   "outputs": [],
   "source": [
    "# user_item_matrix = ratings.pivot(index='movieId', columns='userId', values='rating')\n",
    "data1 = ratings.iloc[0:1000000]\n",
    "user_item_matrix = data1.pivot(index='movieId', columns='userId', values='rating',)\n",
    "\n",
    "# data2 = ratings[100001:260000]\n",
    "# user_item_matrix2 = data2.pivot(index='movieId', columns='userId', values='rating')\n",
    "# user_item_matrix2\n",
    "# user_item_matrix.shape\n",
    "\n",
    "# user_item_matrix.head()\n",
    "# array = np.array(ratings['userId'] < 0)\n",
    "# if True in array :\n",
    "#     print('yes')"
   ]
  },
  {
   "cell_type": "code",
   "execution_count": 17,
   "metadata": {
    "ExecuteTime": {
     "end_time": "2023-12-06T15:41:42.414179900Z",
     "start_time": "2023-12-06T15:41:41.646412400Z"
    }
   },
   "outputs": [],
   "source": [
    "user_item_matrix.fillna(0, inplace=True)\n"
   ]
  },
  {
   "cell_type": "code",
   "execution_count": 18,
   "metadata": {
    "ExecuteTime": {
     "end_time": "2023-12-06T15:41:44.032381400Z",
     "start_time": "2023-12-06T15:41:44.006836300Z"
    }
   },
   "outputs": [
    {
     "data": {
      "text/plain": "userId\n1        27\n2        22\n3        10\n4        62\n5        26\n         ..\n10179     5\n10180    35\n10181    18\n10182    24\n10183    62\nName: rating, Length: 10183, dtype: int64"
     },
     "execution_count": 18,
     "metadata": {},
     "output_type": "execute_result"
    }
   ],
   "source": [
    "users_votes = data1.groupby('userId')['rating'].agg('count')\n",
    "users_votes"
   ]
  },
  {
   "cell_type": "code",
   "execution_count": 19,
   "metadata": {
    "ExecuteTime": {
     "end_time": "2023-12-06T15:41:51.784156400Z",
     "start_time": "2023-12-06T15:41:51.751225200Z"
    }
   },
   "outputs": [
    {
     "data": {
      "text/plain": "movieId\n1         2573\n2         1004\n3          577\n4          101\n5          598\n          ... \n175975       1\n176165       1\n176211       2\n176219       1\n176271       1\nName: rating, Length: 20291, dtype: int64"
     },
     "execution_count": 19,
     "metadata": {},
     "output_type": "execute_result"
    }
   ],
   "source": [
    "movies_votes = data1.groupby('movieId')['rating'].agg('count')\n",
    "movies_votes"
   ]
  },
  {
   "cell_type": "markdown",
   "metadata": {},
   "source": []
  },
  {
   "cell_type": "code",
   "execution_count": 24,
   "metadata": {
    "ExecuteTime": {
     "end_time": "2023-12-06T15:43:26.526243600Z",
     "start_time": "2023-12-06T15:43:26.505061100Z"
    }
   },
   "outputs": [
    {
     "data": {
      "text/plain": "Index([     1,      2,      3,      4,      5,      6,      7,      8,      9,\n           10,\n       ...\n       168252, 168254, 168366, 168612, 169864, 169984, 170705, 170875, 171763,\n       174055],\n      dtype='int64', name='movieId', length=7029)"
     },
     "execution_count": 24,
     "metadata": {},
     "output_type": "execute_result"
    }
   ],
   "source": [
    "# Фильтр\n",
    "user_mask = users_votes[users_votes > 50].index\n",
    "movie_mask = movies_votes[movies_votes > 10].index\n",
    "# user_mask\n",
    "movie_mask"
   ]
  },
  {
   "cell_type": "code",
   "execution_count": 25,
   "metadata": {
    "ExecuteTime": {
     "end_time": "2023-12-06T15:43:29.010910500Z",
     "start_time": "2023-12-06T15:43:28.736831600Z"
    }
   },
   "outputs": [],
   "source": [
    "# применим фильтры и отберем фильмы с достаточным количеством оценок\n",
    "user_item_matrix = user_item_matrix.loc[movie_mask, :]\n",
    "\n",
    "# а также активных пользователей\n",
    "user_item_matrix = user_item_matrix.loc[:,user_mask]"
   ]
  },
  {
   "cell_type": "code",
   "execution_count": 26,
   "metadata": {
    "ExecuteTime": {
     "end_time": "2023-12-06T15:43:31.069085100Z",
     "start_time": "2023-12-06T15:43:31.062576300Z"
    }
   },
   "outputs": [
    {
     "data": {
      "text/plain": "(7029, 3953)"
     },
     "execution_count": 26,
     "metadata": {},
     "output_type": "execute_result"
    }
   ],
   "source": [
    "user_item_matrix.shape"
   ]
  },
  {
   "cell_type": "code",
   "execution_count": 42,
   "metadata": {
    "ExecuteTime": {
     "end_time": "2023-12-06T15:48:19.010396600Z",
     "start_time": "2023-12-06T15:48:18.759426900Z"
    }
   },
   "outputs": [
    {
     "name": "stdout",
     "output_type": "stream",
     "text": [
      "  (0, 0)\t1.0\n",
      "  (0, 3)\t4.0\n",
      "  (0, 4)\t4.5\n",
      "  (1, 0)\t2.0\n"
     ]
    }
   ],
   "source": [
    "csr_data = csr_matrix(user_item_matrix.values)\n",
    "print(csr_data[:2,:5])"
   ]
  },
  {
   "cell_type": "code",
   "execution_count": 43,
   "metadata": {
    "ExecuteTime": {
     "end_time": "2023-12-06T15:48:20.478363800Z",
     "start_time": "2023-12-06T15:48:20.405666900Z"
    }
   },
   "outputs": [
    {
     "data": {
      "text/plain": "      index  movieId    4    7    8    9   11   12   15   16  ...  10159  \\\n0         0        1  0.0  0.0  4.0  4.5  0.0  4.0  0.0  0.0  ...    2.0   \n1         1        2  0.0  0.0  0.0  0.0  0.0  0.0  0.0  0.0  ...    0.0   \n2         2        3  0.0  0.0  0.0  0.0  0.0  0.0  0.0  0.0  ...    0.0   \n3         3        4  0.0  0.0  0.0  0.0  0.0  0.0  0.0  0.0  ...    0.0   \n4         4        5  0.0  0.0  0.0  0.0  0.0  0.0  0.0  0.0  ...    0.0   \n...     ...      ...  ...  ...  ...  ...  ...  ...  ...  ...  ...    ...   \n7024   7024   169984  0.0  0.0  0.0  0.0  0.0  0.0  0.0  0.0  ...    0.0   \n7025   7025   170705  0.0  0.0  0.0  0.0  0.0  0.0  0.0  0.0  ...    0.0   \n7026   7026   170875  0.0  0.0  0.0  0.0  0.0  0.0  0.0  0.0  ...    0.0   \n7027   7027   171763  0.0  0.0  0.0  0.0  0.0  0.0  0.0  0.0  ...    0.0   \n7028   7028   174055  0.0  0.0  0.0  0.0  0.0  0.0  0.0  0.0  ...    0.0   \n\n      10162  10163  10165  10168  10169  10170  10175  10176  10183  \n0       3.0    4.5    2.0    3.0    4.0    4.5    4.5    0.0    3.0  \n1       0.0    0.5    0.0    0.0    2.0    2.5    4.0    0.0    0.0  \n2       0.0    0.0    4.5    0.0    0.0    0.0    0.0    0.0    0.0  \n3       0.0    0.0    0.0    0.0    0.0    0.0    0.0    0.0    0.0  \n4       0.0    0.0    0.0    0.0    0.0    2.5    0.0    0.0    0.0  \n...     ...    ...    ...    ...    ...    ...    ...    ...    ...  \n7024    0.0    0.0    0.0    0.0    0.0    0.0    0.0    0.0    0.0  \n7025    0.0    0.0    0.0    0.0    0.0    0.0    0.0    0.0    0.0  \n7026    0.0    0.0    0.0    0.0    0.0    0.0    0.0    0.0    0.0  \n7027    0.0    0.0    0.0    0.0    0.0    0.0    0.0    0.0    0.0  \n7028    0.0    0.0    0.0    0.0    0.0    0.0    0.0    0.0    0.0  \n\n[7029 rows x 3955 columns]",
      "text/html": "<div>\n<style scoped>\n    .dataframe tbody tr th:only-of-type {\n        vertical-align: middle;\n    }\n\n    .dataframe tbody tr th {\n        vertical-align: top;\n    }\n\n    .dataframe thead th {\n        text-align: right;\n    }\n</style>\n<table border=\"1\" class=\"dataframe\">\n  <thead>\n    <tr style=\"text-align: right;\">\n      <th></th>\n      <th>index</th>\n      <th>movieId</th>\n      <th>4</th>\n      <th>7</th>\n      <th>8</th>\n      <th>9</th>\n      <th>11</th>\n      <th>12</th>\n      <th>15</th>\n      <th>16</th>\n      <th>...</th>\n      <th>10159</th>\n      <th>10162</th>\n      <th>10163</th>\n      <th>10165</th>\n      <th>10168</th>\n      <th>10169</th>\n      <th>10170</th>\n      <th>10175</th>\n      <th>10176</th>\n      <th>10183</th>\n    </tr>\n  </thead>\n  <tbody>\n    <tr>\n      <th>0</th>\n      <td>0</td>\n      <td>1</td>\n      <td>0.0</td>\n      <td>0.0</td>\n      <td>4.0</td>\n      <td>4.5</td>\n      <td>0.0</td>\n      <td>4.0</td>\n      <td>0.0</td>\n      <td>0.0</td>\n      <td>...</td>\n      <td>2.0</td>\n      <td>3.0</td>\n      <td>4.5</td>\n      <td>2.0</td>\n      <td>3.0</td>\n      <td>4.0</td>\n      <td>4.5</td>\n      <td>4.5</td>\n      <td>0.0</td>\n      <td>3.0</td>\n    </tr>\n    <tr>\n      <th>1</th>\n      <td>1</td>\n      <td>2</td>\n      <td>0.0</td>\n      <td>0.0</td>\n      <td>0.0</td>\n      <td>0.0</td>\n      <td>0.0</td>\n      <td>0.0</td>\n      <td>0.0</td>\n      <td>0.0</td>\n      <td>...</td>\n      <td>0.0</td>\n      <td>0.0</td>\n      <td>0.5</td>\n      <td>0.0</td>\n      <td>0.0</td>\n      <td>2.0</td>\n      <td>2.5</td>\n      <td>4.0</td>\n      <td>0.0</td>\n      <td>0.0</td>\n    </tr>\n    <tr>\n      <th>2</th>\n      <td>2</td>\n      <td>3</td>\n      <td>0.0</td>\n      <td>0.0</td>\n      <td>0.0</td>\n      <td>0.0</td>\n      <td>0.0</td>\n      <td>0.0</td>\n      <td>0.0</td>\n      <td>0.0</td>\n      <td>...</td>\n      <td>0.0</td>\n      <td>0.0</td>\n      <td>0.0</td>\n      <td>4.5</td>\n      <td>0.0</td>\n      <td>0.0</td>\n      <td>0.0</td>\n      <td>0.0</td>\n      <td>0.0</td>\n      <td>0.0</td>\n    </tr>\n    <tr>\n      <th>3</th>\n      <td>3</td>\n      <td>4</td>\n      <td>0.0</td>\n      <td>0.0</td>\n      <td>0.0</td>\n      <td>0.0</td>\n      <td>0.0</td>\n      <td>0.0</td>\n      <td>0.0</td>\n      <td>0.0</td>\n      <td>...</td>\n      <td>0.0</td>\n      <td>0.0</td>\n      <td>0.0</td>\n      <td>0.0</td>\n      <td>0.0</td>\n      <td>0.0</td>\n      <td>0.0</td>\n      <td>0.0</td>\n      <td>0.0</td>\n      <td>0.0</td>\n    </tr>\n    <tr>\n      <th>4</th>\n      <td>4</td>\n      <td>5</td>\n      <td>0.0</td>\n      <td>0.0</td>\n      <td>0.0</td>\n      <td>0.0</td>\n      <td>0.0</td>\n      <td>0.0</td>\n      <td>0.0</td>\n      <td>0.0</td>\n      <td>...</td>\n      <td>0.0</td>\n      <td>0.0</td>\n      <td>0.0</td>\n      <td>0.0</td>\n      <td>0.0</td>\n      <td>0.0</td>\n      <td>2.5</td>\n      <td>0.0</td>\n      <td>0.0</td>\n      <td>0.0</td>\n    </tr>\n    <tr>\n      <th>...</th>\n      <td>...</td>\n      <td>...</td>\n      <td>...</td>\n      <td>...</td>\n      <td>...</td>\n      <td>...</td>\n      <td>...</td>\n      <td>...</td>\n      <td>...</td>\n      <td>...</td>\n      <td>...</td>\n      <td>...</td>\n      <td>...</td>\n      <td>...</td>\n      <td>...</td>\n      <td>...</td>\n      <td>...</td>\n      <td>...</td>\n      <td>...</td>\n      <td>...</td>\n      <td>...</td>\n    </tr>\n    <tr>\n      <th>7024</th>\n      <td>7024</td>\n      <td>169984</td>\n      <td>0.0</td>\n      <td>0.0</td>\n      <td>0.0</td>\n      <td>0.0</td>\n      <td>0.0</td>\n      <td>0.0</td>\n      <td>0.0</td>\n      <td>0.0</td>\n      <td>...</td>\n      <td>0.0</td>\n      <td>0.0</td>\n      <td>0.0</td>\n      <td>0.0</td>\n      <td>0.0</td>\n      <td>0.0</td>\n      <td>0.0</td>\n      <td>0.0</td>\n      <td>0.0</td>\n      <td>0.0</td>\n    </tr>\n    <tr>\n      <th>7025</th>\n      <td>7025</td>\n      <td>170705</td>\n      <td>0.0</td>\n      <td>0.0</td>\n      <td>0.0</td>\n      <td>0.0</td>\n      <td>0.0</td>\n      <td>0.0</td>\n      <td>0.0</td>\n      <td>0.0</td>\n      <td>...</td>\n      <td>0.0</td>\n      <td>0.0</td>\n      <td>0.0</td>\n      <td>0.0</td>\n      <td>0.0</td>\n      <td>0.0</td>\n      <td>0.0</td>\n      <td>0.0</td>\n      <td>0.0</td>\n      <td>0.0</td>\n    </tr>\n    <tr>\n      <th>7026</th>\n      <td>7026</td>\n      <td>170875</td>\n      <td>0.0</td>\n      <td>0.0</td>\n      <td>0.0</td>\n      <td>0.0</td>\n      <td>0.0</td>\n      <td>0.0</td>\n      <td>0.0</td>\n      <td>0.0</td>\n      <td>...</td>\n      <td>0.0</td>\n      <td>0.0</td>\n      <td>0.0</td>\n      <td>0.0</td>\n      <td>0.0</td>\n      <td>0.0</td>\n      <td>0.0</td>\n      <td>0.0</td>\n      <td>0.0</td>\n      <td>0.0</td>\n    </tr>\n    <tr>\n      <th>7027</th>\n      <td>7027</td>\n      <td>171763</td>\n      <td>0.0</td>\n      <td>0.0</td>\n      <td>0.0</td>\n      <td>0.0</td>\n      <td>0.0</td>\n      <td>0.0</td>\n      <td>0.0</td>\n      <td>0.0</td>\n      <td>...</td>\n      <td>0.0</td>\n      <td>0.0</td>\n      <td>0.0</td>\n      <td>0.0</td>\n      <td>0.0</td>\n      <td>0.0</td>\n      <td>0.0</td>\n      <td>0.0</td>\n      <td>0.0</td>\n      <td>0.0</td>\n    </tr>\n    <tr>\n      <th>7028</th>\n      <td>7028</td>\n      <td>174055</td>\n      <td>0.0</td>\n      <td>0.0</td>\n      <td>0.0</td>\n      <td>0.0</td>\n      <td>0.0</td>\n      <td>0.0</td>\n      <td>0.0</td>\n      <td>0.0</td>\n      <td>...</td>\n      <td>0.0</td>\n      <td>0.0</td>\n      <td>0.0</td>\n      <td>0.0</td>\n      <td>0.0</td>\n      <td>0.0</td>\n      <td>0.0</td>\n      <td>0.0</td>\n      <td>0.0</td>\n      <td>0.0</td>\n    </tr>\n  </tbody>\n</table>\n<p>7029 rows × 3955 columns</p>\n</div>"
     },
     "execution_count": 43,
     "metadata": {},
     "output_type": "execute_result"
    }
   ],
   "source": [
    "user_item_matrix = user_item_matrix.rename_axis(None, axis = 1).reset_index()\n",
    "zW"
   ]
  },
  {
   "cell_type": "code",
   "execution_count": 15,
   "metadata": {
    "ExecuteTime": {
     "end_time": "2023-12-06T15:41:03.053191600Z",
     "start_time": "2023-12-06T15:41:03.040771800Z"
    }
   },
   "outputs": [
    {
     "ename": "NameError",
     "evalue": "name 'csr_data' is not defined",
     "output_type": "error",
     "traceback": [
      "\u001B[1;31m---------------------------------------------------------------------------\u001B[0m",
      "\u001B[1;31mNameError\u001B[0m                                 Traceback (most recent call last)",
      "Cell \u001B[1;32mIn[15], line 2\u001B[0m\n\u001B[0;32m      1\u001B[0m Knn \u001B[38;5;241m=\u001B[39m NearestNeighbors(metric\u001B[38;5;241m=\u001B[39m \u001B[38;5;124m'\u001B[39m\u001B[38;5;124mcosine\u001B[39m\u001B[38;5;124m'\u001B[39m, algorithm\u001B[38;5;241m=\u001B[39m\u001B[38;5;124m'\u001B[39m\u001B[38;5;124mbrute\u001B[39m\u001B[38;5;124m'\u001B[39m, n_neighbors\u001B[38;5;241m=\u001B[39m\u001B[38;5;241m20\u001B[39m, n_jobs\u001B[38;5;241m=\u001B[39m \u001B[38;5;241m-\u001B[39m\u001B[38;5;241m1\u001B[39m)\n\u001B[1;32m----> 2\u001B[0m Knn\u001B[38;5;241m.\u001B[39mfit(\u001B[43mcsr_data\u001B[49m)\n",
      "\u001B[1;31mNameError\u001B[0m: name 'csr_data' is not defined"
     ]
    }
   ],
   "source": [
    "Knn = NearestNeighbors(metric= 'cosine', algorithm='brute', n_neighbors=20, n_jobs= -1)\n"
   ]
  },
  {
   "cell_type": "code",
   "execution_count": null,
   "outputs": [],
   "source": [
    "Knn.fit(csr_data)"
   ],
   "metadata": {
    "collapsed": false
   }
  },
  {
   "cell_type": "code",
   "execution_count": 16,
   "metadata": {},
   "outputs": [],
   "source": [
    "recommendation = 10\n",
    "# search_word = 'Matrix'\n",
    "search_word = input('Введите фильм : ')"
   ]
  },
  {
   "cell_type": "code",
   "execution_count": 17,
   "metadata": {},
   "outputs": [
    {
     "data": {
      "text/html": [
       "<div>\n",
       "<style scoped>\n",
       "    .dataframe tbody tr th:only-of-type {\n",
       "        vertical-align: middle;\n",
       "    }\n",
       "\n",
       "    .dataframe tbody tr th {\n",
       "        vertical-align: top;\n",
       "    }\n",
       "\n",
       "    .dataframe thead th {\n",
       "        text-align: right;\n",
       "    }\n",
       "</style>\n",
       "<table border=\"1\" class=\"dataframe\">\n",
       "  <thead>\n",
       "    <tr style=\"text-align: right;\">\n",
       "      <th></th>\n",
       "      <th>id</th>\n",
       "      <th>title</th>\n",
       "    </tr>\n",
       "  </thead>\n",
       "  <tbody>\n",
       "    <tr>\n",
       "      <th>2458</th>\n",
       "      <td>603</td>\n",
       "      <td>The Matrix</td>\n",
       "    </tr>\n",
       "    <tr>\n",
       "      <th>6221</th>\n",
       "      <td>604</td>\n",
       "      <td>The Matrix Reloaded</td>\n",
       "    </tr>\n",
       "    <tr>\n",
       "      <th>6783</th>\n",
       "      <td>605</td>\n",
       "      <td>The Matrix Revolutions</td>\n",
       "    </tr>\n",
       "    <tr>\n",
       "      <th>29468</th>\n",
       "      <td>174615</td>\n",
       "      <td>Return to Source: The Philosophy of The Matrix</td>\n",
       "    </tr>\n",
       "    <tr>\n",
       "      <th>38306</th>\n",
       "      <td>21769</td>\n",
       "      <td>Armitage: Dual Matrix</td>\n",
       "    </tr>\n",
       "    <tr>\n",
       "      <th>43870</th>\n",
       "      <td>14543</td>\n",
       "      <td>The Matrix Revisited</td>\n",
       "    </tr>\n",
       "  </tbody>\n",
       "</table>\n",
       "</div>"
      ],
      "text/plain": [
       "           id                                           title\n",
       "2458      603                                      The Matrix\n",
       "6221      604                             The Matrix Reloaded\n",
       "6783      605                          The Matrix Revolutions\n",
       "29468  174615  Return to Source: The Philosophy of The Matrix\n",
       "38306   21769                           Armitage: Dual Matrix\n",
       "43870   14543                            The Matrix Revisited"
      ]
     },
     "execution_count": 17,
     "metadata": {},
     "output_type": "execute_result"
    }
   ],
   "source": [
    "movie_search = movies[movies['title'].str.contains(search_word, na=False)]\n",
    "movie_search\n",
    "\n"
   ]
  },
  {
   "cell_type": "code",
   "execution_count": 18,
   "metadata": {},
   "outputs": [
    {
     "data": {
      "text/plain": [
       "603"
      ]
     },
     "execution_count": 18,
     "metadata": {},
     "output_type": "execute_result"
    }
   ],
   "source": [
    "movie_id = movie_search.iloc[0]['id']\n",
    "movie_id"
   ]
  },
  {
   "cell_type": "code",
   "execution_count": 19,
   "metadata": {},
   "outputs": [],
   "source": [
    "distances, indices = Knn.kneighbors(csr_data[int(movie_id)], n_neighbors = recommendation + 1)"
   ]
  },
  {
   "cell_type": "code",
   "execution_count": 20,
   "metadata": {},
   "outputs": [
    {
     "data": {
      "text/plain": [
       "array([[ 603,  624,   68,  610,  656,  644, 1197, 1037,  669,   83,  426]],\n",
       "      dtype=int64)"
      ]
     },
     "execution_count": 20,
     "metadata": {},
     "output_type": "execute_result"
    }
   ],
   "source": [
    "indices"
   ]
  },
  {
   "cell_type": "code",
   "execution_count": null,
   "outputs": [],
   "source": [],
   "metadata": {
    "collapsed": false
   }
  },
  {
   "cell_type": "code",
   "execution_count": 21,
   "metadata": {},
   "outputs": [
    {
     "data": {
      "text/plain": [
       "array([[0.  , 0.6 , 0.63, 0.65, 0.65, 0.65, 0.66, 0.66, 0.66, 0.66, 0.67]])"
      ]
     },
     "execution_count": 21,
     "metadata": {},
     "output_type": "execute_result"
    }
   ],
   "source": [
    "distances"
   ]
  },
  {
   "cell_type": "code",
   "execution_count": 22,
   "metadata": {},
   "outputs": [
    {
     "name": "stdout",
     "output_type": "stream",
     "text": [
      "<class 'tuple'>\n",
      "[(603, 0.0), (624, 0.5983569194199887), (68, 0.6266809855435538)]\n"
     ]
    }
   ],
   "source": [
    "indices_list = indices.squeeze().tolist()\n",
    "distances_list = distances.squeeze().tolist()\n",
    "\n",
    "indices_distances = list(zip(indices_list, distances_list))\n",
    "\n",
    "print(type(indices_distances[0]))\n",
    "\n",
    "\n",
    "print(indices_distances[:3])"
   ]
  },
  {
   "cell_type": "code",
   "execution_count": 23,
   "metadata": {},
   "outputs": [
    {
     "data": {
      "text/plain": [
       "[(624, 0.5983569194199887),\n",
       " (68, 0.6266809855435538),\n",
       " (610, 0.6455706131760419),\n",
       " (656, 0.6471664856054475),\n",
       " (644, 0.6541142882913827),\n",
       " (1197, 0.6554201796970729),\n",
       " (1037, 0.6624393635246741),\n",
       " (669, 0.6628986456267292),\n",
       " (83, 0.6646550816172356),\n",
       " (426, 0.6680124768731386)]"
      ]
     },
     "execution_count": 23,
     "metadata": {},
     "output_type": "execute_result"
    }
   ],
   "source": [
    "indices_distances_sorted = sorted(indices_distances, key = lambda x: x[1], reverse = False)\n",
    "\n",
    "indices_distances_sorted = indices_distances_sorted[1:]\n",
    "indices_distances_sorted"
   ]
  },
  {
   "cell_type": "code",
   "execution_count": 24,
   "metadata": {},
   "outputs": [
    {
     "name": "stdout",
     "output_type": "stream",
     "text": [
      "[{'Title': 'Almost Famous', 'Distance': 0.5983569194199887}, {'Title': 'Before Sunrise', 'Distance': 0.6266809855435538}, {'Title': 'The Wing or the Thigh', 'Distance': 0.6455706131760419}, {'Title': 'Krull', 'Distance': 0.6471664856054475}, {'Title': 'M', 'Distance': 0.6541142882913827}, {'Title': \"Antonia's Line\", 'Distance': 0.6628986456267292}, {'Title': 'Armageddon', 'Distance': 0.6646550816172356}, {'Title': 'Shaft in Africa', 'Distance': 0.6680124768731386}]\n"
     ]
    }
   ],
   "source": [
    "recom_list = []\n",
    "\n",
    "\n",
    "for ind_dist in indices_distances_sorted:\n",
    "    matrix_movie_id = user_item_matrix.iloc[ind_dist[0]]['movieId']\n",
    "    id = movies[movies['id'] == matrix_movie_id].index\n",
    "    if movies[movies['id'] == matrix_movie_id].empty:\n",
    "        continue\n",
    "    else:\n",
    "        title = movies.iloc[id]['title'].values[0] \n",
    "\n",
    "    dist = ind_dist[1]\n",
    "\n",
    "    recom_list.append({'Title' : title, 'Distance' : dist})\n",
    "print(recom_list)\n",
    "    \n",
    "    "
   ]
  },
  {
   "cell_type": "code",
   "execution_count": null,
   "outputs": [],
   "source": [],
   "metadata": {
    "collapsed": false
   }
  },
  {
   "cell_type": "code",
   "execution_count": null,
   "metadata": {},
   "outputs": [],
   "source": []
  },
  {
   "cell_type": "code",
   "execution_count": null,
   "metadata": {},
   "outputs": [],
   "source": []
  }
 ],
 "metadata": {
  "kernelspec": {
   "display_name": "base",
   "language": "python",
   "name": "python3"
  },
  "language_info": {
   "codemirror_mode": {
    "name": "ipython",
    "version": 3
   },
   "file_extension": ".py",
   "mimetype": "text/x-python",
   "name": "python",
   "nbconvert_exporter": "python",
   "pygments_lexer": "ipython3",
   "version": "3.11.5"
  }
 },
 "nbformat": 4,
 "nbformat_minor": 2
}
